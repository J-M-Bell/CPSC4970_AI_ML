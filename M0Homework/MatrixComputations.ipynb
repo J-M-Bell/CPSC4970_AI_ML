{
 "cells": [
  {
   "cell_type": "code",
   "execution_count": 47,
   "id": "eeeb6bc5",
   "metadata": {},
   "outputs": [],
   "source": [
    "import numpy as np"
   ]
  },
  {
   "cell_type": "code",
   "execution_count": 48,
   "id": "0abbd68d",
   "metadata": {},
   "outputs": [],
   "source": [
    "v = np.array([[1, 2, -1, 3]])\n",
    "w = np.array([[5], \n",
    "              [4], \n",
    "              [1],\n",
    "              [0]])\n",
    "A = np.array([[1, 0, 1],\n",
    "              [2, 1, 2],\n",
    "              [1, -1, 0],\n",
    "              [0, 0, 2]])\n",
    "B = np.array([[1, 1, 3, 6],\n",
    "              [1, -1, 0, 2],\n",
    "              [0, 0, 1, 3]])\n"
   ]
  },
  {
   "cell_type": "code",
   "execution_count": 49,
   "id": "4f17db97",
   "metadata": {},
   "outputs": [
    {
     "name": "stdout",
     "output_type": "stream",
     "text": [
      "Problem 1 Solution:\n",
      " [[ 2  4 -2  6]]\n"
     ]
    }
   ],
   "source": [
    "# Problem 1: v + v\n",
    "solution1 = v + v\n",
    "print(\"Problem 1 Solution:\\n\", solution1)"
   ]
  },
  {
   "cell_type": "code",
   "execution_count": 50,
   "id": "2e37e2bb",
   "metadata": {},
   "outputs": [
    {
     "name": "stdout",
     "output_type": "stream",
     "text": [
      "Problem 2 Solution:\n",
      " [[ 2  4 -2  6]]\n"
     ]
    }
   ],
   "source": [
    "#Problem 2: 2v\n",
    "solution2 = 2 * v\n",
    "print(\"Problem 2 Solution:\\n\", solution2)"
   ]
  },
  {
   "cell_type": "code",
   "execution_count": 51,
   "id": "dc0f0399",
   "metadata": {},
   "outputs": [
    {
     "name": "stdout",
     "output_type": "stream",
     "text": [
      "Problem 3 Solution:\n",
      " [[6]\n",
      " [6]\n",
      " [0]\n",
      " [3]]\n"
     ]
    }
   ],
   "source": [
    "#Problem 3: v^T + w\n",
    "solution3 = v.T + w\n",
    "print(\"Problem 3 Solution:\\n\", solution3)"
   ]
  },
  {
   "cell_type": "code",
   "execution_count": 52,
   "id": "455e843c",
   "metadata": {},
   "outputs": [
    {
     "name": "stdout",
     "output_type": "stream",
     "text": [
      "Problem 4 Solution:\n",
      " [[6 6 0 3]]\n"
     ]
    }
   ],
   "source": [
    "#Problem 4: v + wT\n",
    "solution4 = v + w.T\n",
    "print(\"Problem 4 Solution:\\n\", solution4)"
   ]
  },
  {
   "cell_type": "code",
   "execution_count": 53,
   "id": "f6016a6e",
   "metadata": {},
   "outputs": [
    {
     "name": "stdout",
     "output_type": "stream",
     "text": [
      "Problem 5 Solution:\n",
      " [[-4]\n",
      " [-2]\n",
      " [-2]\n",
      " [ 3]]\n"
     ]
    }
   ],
   "source": [
    "#Problem 5: v^T - w\n",
    "solution5 = v.T - w\n",
    "print(\"Problem 5 Solution:\\n\", solution5)"
   ]
  },
  {
   "cell_type": "code",
   "execution_count": 54,
   "id": "9d7a9ec4",
   "metadata": {},
   "outputs": [
    {
     "name": "stdout",
     "output_type": "stream",
     "text": [
      "Problem 6 Solution:\n",
      " [[ 4]\n",
      " [ 2]\n",
      " [ 2]\n",
      " [-3]]\n"
     ]
    }
   ],
   "source": [
    "#Problem 6: w - v^T\n",
    "solution6 = w - v.T\n",
    "print(\"Problem 6 Solution:\\n\", solution6)"
   ]
  },
  {
   "cell_type": "code",
   "execution_count": 55,
   "id": "1c0364e9",
   "metadata": {},
   "outputs": [
    {
     "name": "stdout",
     "output_type": "stream",
     "text": [
      "Problem 7 Solution:\n",
      " [[11 10  1  3]]\n"
     ]
    }
   ],
   "source": [
    "#Problem 7: v +2w^T\n",
    "solution7 = v + (2 * w.T)\n",
    "print(\"Problem 7 Solution:\\n\", solution7)"
   ]
  },
  {
   "cell_type": "code",
   "execution_count": 56,
   "id": "ba273a12",
   "metadata": {},
   "outputs": [
    {
     "ename": "ValueError",
     "evalue": "matmul: Input operand 1 has a mismatch in its core dimension 0, with gufunc signature (n?,k),(k,m?)->(n?,m?) (size 1 is different from 4)",
     "output_type": "error",
     "traceback": [
      "\u001b[0;31m---------------------------------------------------------------------------\u001b[0m",
      "\u001b[0;31mValueError\u001b[0m                                Traceback (most recent call last)",
      "Cell \u001b[0;32mIn[56], line 2\u001b[0m\n\u001b[1;32m      1\u001b[0m \u001b[38;5;66;03m#Problem 8: v @ w^T\u001b[39;00m\n\u001b[0;32m----> 2\u001b[0m solution8 \u001b[38;5;241m=\u001b[39m v \u001b[38;5;241m@\u001b[39m w\u001b[38;5;241m.\u001b[39mT\n\u001b[1;32m      3\u001b[0m \u001b[38;5;28mprint\u001b[39m(\u001b[38;5;124m\"\u001b[39m\u001b[38;5;124mProblem 8 Solution:\u001b[39m\u001b[38;5;130;01m\\n\u001b[39;00m\u001b[38;5;124m\"\u001b[39m, solution8)\n",
      "\u001b[0;31mValueError\u001b[0m: matmul: Input operand 1 has a mismatch in its core dimension 0, with gufunc signature (n?,k),(k,m?)->(n?,m?) (size 1 is different from 4)"
     ]
    }
   ],
   "source": [
    "#Problem 8: v @ w^T\n",
    "solution8 = v @ w.T\n",
    "print(\"Problem 8 Solution:\\n\", solution8)"
   ]
  },
  {
   "cell_type": "code",
   "execution_count": null,
   "id": "5574f2a3",
   "metadata": {},
   "outputs": [],
   "source": []
  }
 ],
 "metadata": {
  "kernelspec": {
   "display_name": "base",
   "language": "python",
   "name": "python3"
  },
  "language_info": {
   "codemirror_mode": {
    "name": "ipython",
    "version": 3
   },
   "file_extension": ".py",
   "mimetype": "text/x-python",
   "name": "python",
   "nbconvert_exporter": "python",
   "pygments_lexer": "ipython3",
   "version": "3.13.5"
  }
 },
 "nbformat": 4,
 "nbformat_minor": 5
}
