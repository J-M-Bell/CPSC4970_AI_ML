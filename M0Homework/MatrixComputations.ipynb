{
 "cells": [
  {
   "cell_type": "code",
   "execution_count": 1,
   "id": "eeeb6bc5",
   "metadata": {},
   "outputs": [],
   "source": [
    "import numpy as np"
   ]
  },
  {
   "cell_type": "code",
   "execution_count": null,
   "id": "0abbd68d",
   "metadata": {},
   "outputs": [],
   "source": [
    "#Declare vectors and matrices\n",
    "v = np.array([[1, 2, -1, 3]])\n",
    "w = np.array([[5], \n",
    "              [4], \n",
    "              [1],\n",
    "              [0]])\n",
    "A = np.array([[1, 0, 1],\n",
    "              [2, 1, 1],\n",
    "              [1, -1, 0],\n",
    "              [0, 0, 2]])\n",
    "B = np.array([[1, 1, 3, 6],\n",
    "              [1, -1, 0, 2],\n",
    "              [0, 0, 1, 3]])\n"
   ]
  },
  {
   "cell_type": "code",
   "execution_count": 3,
   "id": "4f17db97",
   "metadata": {},
   "outputs": [
    {
     "name": "stdout",
     "output_type": "stream",
     "text": [
      "Problem 1 Solution:\n",
      " [[ 2  4 -2  6]]\n"
     ]
    }
   ],
   "source": [
    "# Problem 1: v + v\n",
    "solution1 = v + v\n",
    "print(\"Problem 1 Solution:\\n\", solution1)"
   ]
  },
  {
   "cell_type": "code",
   "execution_count": 4,
   "id": "2e37e2bb",
   "metadata": {},
   "outputs": [
    {
     "name": "stdout",
     "output_type": "stream",
     "text": [
      "Problem 2 Solution:\n",
      " [[ 2  4 -2  6]]\n"
     ]
    }
   ],
   "source": [
    "#Problem 2: 2v\n",
    "solution2 = 2 * v\n",
    "print(\"Problem 2 Solution:\\n\", solution2)"
   ]
  },
  {
   "cell_type": "code",
   "execution_count": 5,
   "id": "dc0f0399",
   "metadata": {},
   "outputs": [
    {
     "name": "stdout",
     "output_type": "stream",
     "text": [
      "Problem 3 Solution:\n",
      " [[6]\n",
      " [6]\n",
      " [0]\n",
      " [3]]\n"
     ]
    }
   ],
   "source": [
    "#Problem 3: v^T + w\n",
    "solution3 = v.T + w\n",
    "print(\"Problem 3 Solution:\\n\", solution3)"
   ]
  },
  {
   "cell_type": "code",
   "execution_count": 6,
   "id": "455e843c",
   "metadata": {},
   "outputs": [
    {
     "name": "stdout",
     "output_type": "stream",
     "text": [
      "Problem 4 Solution:\n",
      " [[6 6 0 3]]\n"
     ]
    }
   ],
   "source": [
    "#Problem 4: v + wT\n",
    "solution4 = v + w.T\n",
    "print(\"Problem 4 Solution:\\n\", solution4)"
   ]
  },
  {
   "cell_type": "code",
   "execution_count": 7,
   "id": "f6016a6e",
   "metadata": {},
   "outputs": [
    {
     "name": "stdout",
     "output_type": "stream",
     "text": [
      "Problem 5 Solution:\n",
      " [[-4]\n",
      " [-2]\n",
      " [-2]\n",
      " [ 3]]\n"
     ]
    }
   ],
   "source": [
    "#Problem 5: v^T - w\n",
    "solution5 = v.T - w\n",
    "print(\"Problem 5 Solution:\\n\", solution5)"
   ]
  },
  {
   "cell_type": "code",
   "execution_count": 8,
   "id": "9d7a9ec4",
   "metadata": {},
   "outputs": [
    {
     "name": "stdout",
     "output_type": "stream",
     "text": [
      "Problem 6 Solution:\n",
      " [[ 4]\n",
      " [ 2]\n",
      " [ 2]\n",
      " [-3]]\n"
     ]
    }
   ],
   "source": [
    "#Problem 6: w - v^T\n",
    "solution6 = w - v.T\n",
    "print(\"Problem 6 Solution:\\n\", solution6)"
   ]
  },
  {
   "cell_type": "code",
   "execution_count": 9,
   "id": "1c0364e9",
   "metadata": {},
   "outputs": [
    {
     "name": "stdout",
     "output_type": "stream",
     "text": [
      "Problem 7 Solution:\n",
      " [[11 10  1  3]]\n"
     ]
    }
   ],
   "source": [
    "#Problem 7: v +2w^T\n",
    "solution7 = v + (2 * w.T)\n",
    "print(\"Problem 7 Solution:\\n\", solution7)"
   ]
  },
  {
   "cell_type": "code",
   "execution_count": 10,
   "id": "ba273a12",
   "metadata": {},
   "outputs": [
    {
     "name": "stdout",
     "output_type": "stream",
     "text": [
      "Problem 8 Solution:\n",
      " [[ 5  8 -1  0]]\n"
     ]
    }
   ],
   "source": [
    "#Problem 8: v * w^T\n",
    "solution8 = v * w.T\n",
    "print(\"Problem 8 Solution:\\n\", solution8)"
   ]
  },
  {
   "cell_type": "code",
   "execution_count": 11,
   "id": "5574f2a3",
   "metadata": {},
   "outputs": [
    {
     "name": "stdout",
     "output_type": "stream",
     "text": [
      "Problem 9 Solution:\n",
      " [[12]]\n"
     ]
    }
   ],
   "source": [
    "#Problem 9: vw\n",
    "solution9 = v @ w\n",
    "print(\"Problem 9 Solution:\\n\", solution9)"
   ]
  },
  {
   "cell_type": "code",
   "execution_count": 12,
   "id": "f42c7d0b-0379-4291-bc54-b044645ac4cd",
   "metadata": {},
   "outputs": [
    {
     "name": "stdout",
     "output_type": "stream",
     "text": [
      "Problem 10 Solution:\n",
      " [[12]]\n"
     ]
    }
   ],
   "source": [
    "#Problem 10: w^Tv^T\n",
    "solution10 = w.T @ v.T\n",
    "print(\"Problem 10 Solution:\\n\", solution10)"
   ]
  },
  {
   "cell_type": "code",
   "execution_count": 13,
   "id": "285ab932-eaa1-4552-86d9-ed01d80d272a",
   "metadata": {},
   "outputs": [
    {
     "name": "stdout",
     "output_type": "stream",
     "text": [
      "Problem 11 Solution:\n",
      " [[42]]\n"
     ]
    }
   ],
   "source": [
    "#Problem 11: w^Tw\n",
    "solution11 = w.T @ w\n",
    "print(\"Problem 11 Solution:\\n\", solution11)"
   ]
  },
  {
   "cell_type": "code",
   "execution_count": 14,
   "id": "443462ec-2c35-41d9-b696-714f72d233a0",
   "metadata": {},
   "outputs": [
    {
     "name": "stdout",
     "output_type": "stream",
     "text": [
      "Problem 12 Solution:\n",
      " [[15]]\n"
     ]
    }
   ],
   "source": [
    "#Problem 12: vv^T\n",
    "solution12 = v @ v.T\n",
    "print(\"Problem 12 Solution:\\n\", solution12)"
   ]
  },
  {
   "cell_type": "code",
   "execution_count": 15,
   "id": "2735e322-45e6-44a0-a5d3-3d86271cafd6",
   "metadata": {},
   "outputs": [
    {
     "name": "stdout",
     "output_type": "stream",
     "text": [
      "Problem 13 Solution:\n",
      " [[4 3 9]]\n"
     ]
    }
   ],
   "source": [
    "#Problem 13: vA\n",
    "solution13 = v @ A\n",
    "print(\"Problem 13 Solution:\\n\", solution13)"
   ]
  },
  {
   "cell_type": "code",
   "execution_count": 16,
   "id": "a05281ac-3c35-4b65-b2a7-329b546da099",
   "metadata": {},
   "outputs": [
    {
     "name": "stdout",
     "output_type": "stream",
     "text": [
      "Problem 14 Solution:\n",
      " [[ 1  1  4  9]\n",
      " [ 3  1  7 17]\n",
      " [ 0  2  3  4]\n",
      " [ 0  0  2  6]]\n"
     ]
    }
   ],
   "source": [
    "#Problem 14: AB\n",
    "solution14 = A @ B\n",
    "print(\"Problem 14 Solution:\\n\", solution14)"
   ]
  },
  {
   "cell_type": "code",
   "execution_count": 17,
   "id": "683b109a-2b6f-44da-a6b1-d48f1fb60465",
   "metadata": {},
   "outputs": [
    {
     "name": "stdout",
     "output_type": "stream",
     "text": [
      "Problem 15 Solution:\n",
      " [[ 7  1 21 57]]\n"
     ]
    }
   ],
   "source": [
    "#Problem 15: vAB\n",
    "solution15 = v @ (A @ B)\n",
    "print(\"Problem 15 Solution:\\n\", solution15)"
   ]
  },
  {
   "cell_type": "code",
   "execution_count": 18,
   "id": "af4b7ff9-32be-4beb-92c4-f2044523f82d",
   "metadata": {},
   "outputs": [
    {
     "name": "stdout",
     "output_type": "stream",
     "text": [
      "Problem 16 Solution:\n",
      " [[6 1 3]\n",
      " [1 2 1]\n",
      " [3 1 6]]\n"
     ]
    }
   ],
   "source": [
    "#Problem 16: A^TA\n",
    "solution16 = A.T @ A\n",
    "print(\"Problem 16 Solution:\\n\", solution16)"
   ]
  },
  {
   "cell_type": "code",
   "execution_count": 19,
   "id": "0b123aa6-a1fc-4253-b029-394b0d874172",
   "metadata": {},
   "outputs": [
    {
     "name": "stdout",
     "output_type": "stream",
     "text": [
      "Problem 17 Solution:\n",
      " [[41 11 18]\n",
      " [11  4  5]\n",
      " [18  5  4]]\n"
     ]
    }
   ],
   "source": [
    "#Problem 17: BB^T - A^TA\n",
    "solution17 = (B @ B.T) - (A.T @ A)\n",
    "print(\"Problem 17 Solution:\\n\", solution17)"
   ]
  },
  {
   "cell_type": "code",
   "execution_count": 20,
   "id": "80511d42-273f-4c76-af07-231c6a89b2e8",
   "metadata": {},
   "outputs": [
    {
     "name": "stdout",
     "output_type": "stream",
     "text": [
      "Problem 18 Solution:\n",
      " [[ 1  0  0]\n",
      " [ 2 -1  0]\n",
      " [ 3  0  0]\n",
      " [ 0  0  6]]\n"
     ]
    }
   ],
   "source": [
    "#Problem 18: A * B^T\n",
    "solution18 = A * B.T\n",
    "print(\"Problem 18 Solution:\\n\", solution18)"
   ]
  },
  {
   "cell_type": "code",
   "execution_count": null,
   "id": "8da0f384",
   "metadata": {},
   "outputs": [
    {
     "name": "stdout",
     "output_type": "stream",
     "text": [
      "Problem 19 Solution:\n",
      " [[ 5  4  1  0]\n",
      " [10  8  2  0]\n",
      " [-5 -4 -1  0]\n",
      " [15 12  3  0]]\n"
     ]
    }
   ],
   "source": [
    "#Problem 19: vector outer product(v^T w)\n",
    "solution19 = np.outer(v.T, w)\n",
    "print(\"Problem 19 Solution:\\n\", solution19)"
   ]
  },
  {
   "cell_type": "code",
   "execution_count": null,
   "id": "9c89233c",
   "metadata": {},
   "outputs": [
    {
     "name": "stdout",
     "output_type": "stream",
     "text": [
      "Problem 20 Solution:\n",
      " [[ 5 10 -5 15]\n",
      " [ 4  8 -4 12]\n",
      " [ 1  2 -1  3]\n",
      " [ 0  0  0  0]]\n"
     ]
    }
   ],
   "source": [
    "#Problem 20: vector outer product(w v^T)\n",
    "solution20 = np.outer(w, v.T)\n",
    "print(\"Problem 20 Solution:\\n\", solution20)"
   ]
  }
 ],
 "metadata": {
  "kernelspec": {
   "display_name": "base",
   "language": "python",
   "name": "python3"
  },
  "language_info": {
   "codemirror_mode": {
    "name": "ipython",
    "version": 3
   },
   "file_extension": ".py",
   "mimetype": "text/x-python",
   "name": "python",
   "nbconvert_exporter": "python",
   "pygments_lexer": "ipython3",
   "version": "3.13.5"
  }
 },
 "nbformat": 4,
 "nbformat_minor": 5
}
